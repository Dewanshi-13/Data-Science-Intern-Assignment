{
 "cells": [
  {
   "cell_type": "code",
   "execution_count": 1,
   "metadata": {},
   "outputs": [],
   "source": [
    "# STEP-1:Import necessary libraries\n",
    "import pandas as pd\n",
    "import numpy as np\n",
    "from sklearn.preprocessing import StandardScaler\n",
    "from sklearn.metrics.pairwise import cosine_similarity"
   ]
  },
  {
   "cell_type": "code",
   "execution_count": 2,
   "metadata": {},
   "outputs": [],
   "source": [
    "# STEP-2:Loading the datasets\n",
    "customers=pd.read_csv(\"Customers.csv\")\n",
    "transactions=pd.read_csv(\"Transactions.csv\")\n",
    "products=pd.read_csv(\"Products.csv\")\n",
    "\n",
    "# STEP-3:Data Cleaning and Preprocessing\n",
    "# Convert date columns to datetime format\n",
    "customers['SignupDate'] = pd.to_datetime(customers['SignupDate'])\n",
    "transactions['TransactionDate'] = pd.to_datetime(transactions['TransactionDate'])\n"
   ]
  },
  {
   "cell_type": "code",
   "execution_count": 3,
   "metadata": {},
   "outputs": [
    {
     "name": "stdout",
     "output_type": "stream",
     "text": [
      "  CustomerID        CustomerName SignupDate  total_spent  total_transactions  \\\n",
      "0      C0001    Lawrence Carroll 2022-07-10    -0.051884            0.000000   \n",
      "1      C0002      Elizabeth Lutz 2022-02-13    -0.862714           -0.451294   \n",
      "2      C0003      Michael Rivera 2024-03-07    -0.393842           -0.451294   \n",
      "3      C0004  Kathleen Rodriguez 2022-10-09     1.035375            1.353881   \n",
      "4      C0005         Laura Weber 2022-08-15    -0.769499           -0.902587   \n",
      "\n",
      "   avg_transaction_value  Region_Europe  Region_North America  \\\n",
      "0              -0.054781          False                 False   \n",
      "1              -0.903985          False                 False   \n",
      "2              -0.011575          False                 False   \n",
      "3              -0.061170          False                 False   \n",
      "4              -0.025086          False                 False   \n",
      "\n",
      "   Region_South America  \n",
      "0                  True  \n",
      "1                 False  \n",
      "2                  True  \n",
      "3                  True  \n",
      "4                 False  \n"
     ]
    }
   ],
   "source": [
    "#STEP 4: Create a feature set for similarity measurement.\n",
    "# Aggregate customer transaction behavior\n",
    "customer_spending = transactions.groupby(\"CustomerID\").agg(\n",
    "    total_spent=(\"TotalValue\", \"sum\"),\n",
    "    total_transactions=(\"TransactionID\", \"count\"),\n",
    "    avg_transaction_value=(\"TotalValue\", \"mean\")\n",
    ").reset_index()\n",
    "\n",
    "# Merge with customer profile data\n",
    "customer_data = customers.merge(customer_spending, on=\"CustomerID\", how=\"left\").fillna(0)\n",
    "\n",
    "# Encode categorical variables (Region)\n",
    "customer_data = pd.get_dummies(customer_data, columns=['Region'], drop_first=True)\n",
    "\n",
    "# Standardize numerical features\n",
    "scaler = StandardScaler()\n",
    "numeric_features = ['total_spent', 'total_transactions', 'avg_transaction_value']\n",
    "customer_data[numeric_features] = scaler.fit_transform(customer_data[numeric_features])\n",
    "\n",
    "# Display processed customer data\n",
    "print(customer_data.head())\n"
   ]
  },
  {
   "cell_type": "code",
   "execution_count": 4,
   "metadata": {},
   "outputs": [
    {
     "name": "stdout",
     "output_type": "stream",
     "text": [
      "CustomerID     C0001     C0002     C0003     C0004     C0005     C0006  \\\n",
      "CustomerID                                                               \n",
      "C0001       1.000000  0.070763  0.873427  0.478965  0.034713  0.459430   \n",
      "C0002       0.070763  1.000000  0.357643 -0.551623  0.694007 -0.603602   \n",
      "C0003       0.873427  0.357643  1.000000 -0.007838  0.513888  0.450871   \n",
      "C0004       0.478965 -0.551623 -0.007838  1.000000 -0.860032  0.190968   \n",
      "C0005       0.034713  0.694007  0.513888 -0.860032  1.000000  0.018868   \n",
      "\n",
      "CustomerID     C0007     C0008     C0009     C0010  ...     C0191     C0192  \\\n",
      "CustomerID                                          ...                       \n",
      "C0001      -0.012195  0.012841  0.063393  0.059410  ...  0.946153  0.717895   \n",
      "C0002       0.094835 -0.122202  0.914656  0.828265  ...  0.365579  0.740137   \n",
      "C0003       0.400945 -0.372159  0.332784  0.281288  ...  0.868295  0.864273   \n",
      "C0004      -0.709482  0.665121 -0.516871 -0.430085  ...  0.356734 -0.116387   \n",
      "C0005       0.781211 -0.728229  0.646547  0.545689  ...  0.153330  0.564080   \n",
      "\n",
      "CustomerID     C0193     C0194     C0195     C0196     C0197     C0198  \\\n",
      "CustomerID                                                               \n",
      "C0001      -0.005173  0.012183  0.859917 -0.062945  0.032775  0.051127   \n",
      "C0002       0.200236 -0.057509 -0.286888 -0.728818  0.603649  0.835409   \n",
      "C0003       0.433203 -0.286307  0.503683 -0.048068  0.396574  0.423652   \n",
      "C0004      -0.759393  0.512925  0.859860  0.020504 -0.657835 -0.687693   \n",
      "C0005       0.844264 -0.559681 -0.480171 -0.091140  0.771562  0.824273   \n",
      "\n",
      "CustomerID     C0199     C0200  \n",
      "CustomerID                      \n",
      "C0001       0.053693 -0.073922  \n",
      "C0002       0.769108 -0.923430  \n",
      "C0003       0.288753 -0.190955  \n",
      "C0004      -0.448820  0.257014  \n",
      "C0005       0.560463 -0.368359  \n",
      "\n",
      "[5 rows x 200 columns]\n"
     ]
    }
   ],
   "source": [
    "#STEP 5:- Compute Similarity Using Cosine Similarity\n",
    "# Compute similarity matrix\n",
    "customer_features = customer_data.drop(columns=[\"CustomerID\", \"CustomerName\", \"SignupDate\"])\n",
    "similarity_matrix = cosine_similarity(customer_features)\n",
    "\n",
    "# Convert to DataFrame\n",
    "customer_similarity_df = pd.DataFrame(similarity_matrix, index=customer_data[\"CustomerID\"], columns=customer_data[\"CustomerID\"])\n",
    "\n",
    "# Display similarity matrix\n",
    "print(customer_similarity_df.head())"
   ]
  },
  {
   "cell_type": "code",
   "execution_count": 6,
   "metadata": {},
   "outputs": [
    {
     "name": "stdout",
     "output_type": "stream",
     "text": [
      "  CustomerID                                Lookalike_Customers\n",
      "0      C0001  [('C0137', 0.9997668602684258), ('C0152', 0.99...\n",
      "1      C0002  [('C0043', 0.9925855200738234), ('C0142', 0.98...\n",
      "2      C0003  [('C0133', 0.9872238754286274), ('C0052', 0.97...\n",
      "3      C0004  [('C0108', 0.983016487178466), ('C0113', 0.979...\n",
      "4      C0005  [('C0178', 0.9993968050717345), ('C0159', 0.99...\n"
     ]
    }
   ],
   "source": [
    "#STEP 5:- Find Top 3 Lookalike Customers for Each Customer (C0001 - C0020)\n",
    "# Get the first 20 customers\n",
    "target_customers = customer_data[\"CustomerID\"][:20]\n",
    "\n",
    "lookalike_results = {}\n",
    "\n",
    "for customer_id in target_customers:\n",
    "    # Get top 3 most similar customers\n",
    "    similar_customers = customer_similarity_df[customer_id].sort_values(ascending=False).iloc[1:4]\n",
    "    \n",
    "    # Store results\n",
    "    lookalike_results[customer_id] = list(zip(similar_customers.index, similar_customers.values))\n",
    "\n",
    "# Convert to DataFrame\n",
    "lookalike_df = pd.DataFrame([\n",
    "    {\"CustomerID\": cust_id, \"Lookalike_Customers\": str(lookalikes)}\n",
    "    for cust_id, lookalikes in lookalike_results.items()\n",
    "])\n",
    "\n",
    "# Save as CSV\n",
    "lookalike_df.to_csv(\"Dewanshi_Gupta_Lookalike.csv\", index=False)\n",
    "\n",
    "\n",
    "print(lookalike_df.head())"
   ]
  }
 ],
 "metadata": {
  "kernelspec": {
   "display_name": "Python 3",
   "language": "python",
   "name": "python3"
  },
  "language_info": {
   "codemirror_mode": {
    "name": "ipython",
    "version": 3
   },
   "file_extension": ".py",
   "mimetype": "text/x-python",
   "name": "python",
   "nbconvert_exporter": "python",
   "pygments_lexer": "ipython3",
   "version": "3.8.10"
  }
 },
 "nbformat": 4,
 "nbformat_minor": 2
}
